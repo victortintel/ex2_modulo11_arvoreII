{
 "cells": [
  {
   "cell_type": "markdown",
   "metadata": {},
   "source": [
    "## Árvores de regressão - exercícios 02\n",
    "\n",
    "Este exercício será uma continuação do anterior, mesma base, mesmas variáveis - vamos tentar buscar a 'melhor árvore'.\n",
    "\n",
    "A descrição das variáveis está abaixo:"
   ]
  },
  {
   "cell_type": "markdown",
   "metadata": {},
   "source": [
    "| Variavel | Descrição|\n",
    "|-|-|\n",
    "|CRIM| taxa de crimes per-cápita da cidade | \n",
    "|ZN| proporção de terrenos residenciais zoneados para lotes com mais de 25.000 pés quadrados. |\n",
    "|INDUS| proporção de acres de negócios não varejistas por cidade |\n",
    "|CHAS |vale 1 se o terreno faz fronteira com o *Charles River*; 0 caso contrário |\n",
    "|NOX| Concentração de óxido nítrico (em partes por 10 milhões) |\n",
    "|RM| número médio de quartos por habitação |\n",
    "|AGE| proporção de unidades ocupadas pelo proprietário construídas antes de 1940 |\n",
    "|DIS| distâncias ponderadas até cinco centros de empregos de Boston |\n",
    "|RAD| índice de acessibilidade a rodovias radiais |\n",
    "|TAX| taxa de imposto sobre a propriedade de valor total por \\\\$10,000 |\n",
    "|PTRATIO| razão pupilo-professor da cidade |\n",
    "|B| $ 1000 (Bk - 0,63) ^ 2 $ onde Bk é a proporção de negros por cidade |\n",
    "|LSTAT| \\%status inferior da população |\n",
    "|MEDV| (variável resposta) Valor mediano das casas ocupadas pelo proprietário em US $ 1.000|"
   ]
  },
  {
   "cell_type": "code",
   "execution_count": 6,
   "metadata": {},
   "outputs": [],
   "source": [
    "\n",
    "import matplotlib.pyplot as plt\n",
    "import seaborn as sns\n",
    "import pandas as pd\n",
    "\n",
    "\n",
    "from sklearn import datasets\n",
    "from sklearn.tree import DecisionTreeRegressor\n",
    "from sklearn import tree\n",
    "from sklearn.model_selection import train_test_split\n",
    "\n",
    "\n",
    "boston = pd.read_csv('https://raw.githubusercontent.com/selva86/datasets/master/BostonHousing.csv')\n",
    "X = boston.drop(columns=['medv']).copy()\n",
    "y = boston[['medv']]"
   ]
  },
  {
   "cell_type": "code",
   "execution_count": 7,
   "metadata": {},
   "outputs": [
    {
     "data": {
      "text/html": [
       "<div>\n",
       "<style scoped>\n",
       "    .dataframe tbody tr th:only-of-type {\n",
       "        vertical-align: middle;\n",
       "    }\n",
       "\n",
       "    .dataframe tbody tr th {\n",
       "        vertical-align: top;\n",
       "    }\n",
       "\n",
       "    .dataframe thead th {\n",
       "        text-align: right;\n",
       "    }\n",
       "</style>\n",
       "<table border=\"1\" class=\"dataframe\">\n",
       "  <thead>\n",
       "    <tr style=\"text-align: right;\">\n",
       "      <th></th>\n",
       "      <th>crim</th>\n",
       "      <th>zn</th>\n",
       "      <th>indus</th>\n",
       "      <th>chas</th>\n",
       "      <th>nox</th>\n",
       "      <th>rm</th>\n",
       "      <th>age</th>\n",
       "      <th>dis</th>\n",
       "      <th>rad</th>\n",
       "      <th>tax</th>\n",
       "      <th>ptratio</th>\n",
       "      <th>b</th>\n",
       "      <th>lstat</th>\n",
       "    </tr>\n",
       "  </thead>\n",
       "  <tbody>\n",
       "    <tr>\n",
       "      <th>0</th>\n",
       "      <td>0.00632</td>\n",
       "      <td>18.0</td>\n",
       "      <td>2.31</td>\n",
       "      <td>0</td>\n",
       "      <td>0.538</td>\n",
       "      <td>6.575</td>\n",
       "      <td>65.2</td>\n",
       "      <td>4.0900</td>\n",
       "      <td>1</td>\n",
       "      <td>296</td>\n",
       "      <td>15.3</td>\n",
       "      <td>396.90</td>\n",
       "      <td>4.98</td>\n",
       "    </tr>\n",
       "    <tr>\n",
       "      <th>1</th>\n",
       "      <td>0.02731</td>\n",
       "      <td>0.0</td>\n",
       "      <td>7.07</td>\n",
       "      <td>0</td>\n",
       "      <td>0.469</td>\n",
       "      <td>6.421</td>\n",
       "      <td>78.9</td>\n",
       "      <td>4.9671</td>\n",
       "      <td>2</td>\n",
       "      <td>242</td>\n",
       "      <td>17.8</td>\n",
       "      <td>396.90</td>\n",
       "      <td>9.14</td>\n",
       "    </tr>\n",
       "    <tr>\n",
       "      <th>2</th>\n",
       "      <td>0.02729</td>\n",
       "      <td>0.0</td>\n",
       "      <td>7.07</td>\n",
       "      <td>0</td>\n",
       "      <td>0.469</td>\n",
       "      <td>7.185</td>\n",
       "      <td>61.1</td>\n",
       "      <td>4.9671</td>\n",
       "      <td>2</td>\n",
       "      <td>242</td>\n",
       "      <td>17.8</td>\n",
       "      <td>392.83</td>\n",
       "      <td>4.03</td>\n",
       "    </tr>\n",
       "    <tr>\n",
       "      <th>3</th>\n",
       "      <td>0.03237</td>\n",
       "      <td>0.0</td>\n",
       "      <td>2.18</td>\n",
       "      <td>0</td>\n",
       "      <td>0.458</td>\n",
       "      <td>6.998</td>\n",
       "      <td>45.8</td>\n",
       "      <td>6.0622</td>\n",
       "      <td>3</td>\n",
       "      <td>222</td>\n",
       "      <td>18.7</td>\n",
       "      <td>394.63</td>\n",
       "      <td>2.94</td>\n",
       "    </tr>\n",
       "    <tr>\n",
       "      <th>4</th>\n",
       "      <td>0.06905</td>\n",
       "      <td>0.0</td>\n",
       "      <td>2.18</td>\n",
       "      <td>0</td>\n",
       "      <td>0.458</td>\n",
       "      <td>7.147</td>\n",
       "      <td>54.2</td>\n",
       "      <td>6.0622</td>\n",
       "      <td>3</td>\n",
       "      <td>222</td>\n",
       "      <td>18.7</td>\n",
       "      <td>396.90</td>\n",
       "      <td>5.33</td>\n",
       "    </tr>\n",
       "  </tbody>\n",
       "</table>\n",
       "</div>"
      ],
      "text/plain": [
       "      crim    zn  indus  chas    nox     rm   age     dis  rad  tax  ptratio  \\\n",
       "0  0.00632  18.0   2.31     0  0.538  6.575  65.2  4.0900    1  296     15.3   \n",
       "1  0.02731   0.0   7.07     0  0.469  6.421  78.9  4.9671    2  242     17.8   \n",
       "2  0.02729   0.0   7.07     0  0.469  7.185  61.1  4.9671    2  242     17.8   \n",
       "3  0.03237   0.0   2.18     0  0.458  6.998  45.8  6.0622    3  222     18.7   \n",
       "4  0.06905   0.0   2.18     0  0.458  7.147  54.2  6.0622    3  222     18.7   \n",
       "\n",
       "        b  lstat  \n",
       "0  396.90   4.98  \n",
       "1  396.90   9.14  \n",
       "2  392.83   4.03  \n",
       "3  394.63   2.94  \n",
       "4  396.90   5.33  "
      ]
     },
     "execution_count": 7,
     "metadata": {},
     "output_type": "execute_result"
    }
   ],
   "source": [
    "X.head()"
   ]
  },
  {
   "cell_type": "code",
   "execution_count": 8,
   "metadata": {},
   "outputs": [
    {
     "data": {
      "text/html": [
       "<div>\n",
       "<style scoped>\n",
       "    .dataframe tbody tr th:only-of-type {\n",
       "        vertical-align: middle;\n",
       "    }\n",
       "\n",
       "    .dataframe tbody tr th {\n",
       "        vertical-align: top;\n",
       "    }\n",
       "\n",
       "    .dataframe thead th {\n",
       "        text-align: right;\n",
       "    }\n",
       "</style>\n",
       "<table border=\"1\" class=\"dataframe\">\n",
       "  <thead>\n",
       "    <tr style=\"text-align: right;\">\n",
       "      <th></th>\n",
       "      <th>medv</th>\n",
       "    </tr>\n",
       "  </thead>\n",
       "  <tbody>\n",
       "    <tr>\n",
       "      <th>0</th>\n",
       "      <td>24.0</td>\n",
       "    </tr>\n",
       "    <tr>\n",
       "      <th>1</th>\n",
       "      <td>21.6</td>\n",
       "    </tr>\n",
       "    <tr>\n",
       "      <th>2</th>\n",
       "      <td>34.7</td>\n",
       "    </tr>\n",
       "    <tr>\n",
       "      <th>3</th>\n",
       "      <td>33.4</td>\n",
       "    </tr>\n",
       "    <tr>\n",
       "      <th>4</th>\n",
       "      <td>36.2</td>\n",
       "    </tr>\n",
       "  </tbody>\n",
       "</table>\n",
       "</div>"
      ],
      "text/plain": [
       "   medv\n",
       "0  24.0\n",
       "1  21.6\n",
       "2  34.7\n",
       "3  33.4\n",
       "4  36.2"
      ]
     },
     "execution_count": 8,
     "metadata": {},
     "output_type": "execute_result"
    }
   ],
   "source": [
    "y.head()"
   ]
  },
  {
   "cell_type": "markdown",
   "metadata": {},
   "source": [
    "### 1. Execute os passos do exercício anterior, até que você tenha uma árvore de regressão predizendo o valor do imóvel na base de treinamento."
   ]
  },
  {
   "cell_type": "code",
   "execution_count": 10,
   "metadata": {},
   "outputs": [],
   "source": [
    "X_train, X_test, y_train, y_test = train_test_split(X, y, test_size=0.2, random_state=42)\n",
    "\n",
    "X_train, X_val, y_train, y_val = train_test_split(X_train, y_train, test_size=0.2, random_state=42)"
   ]
  },
  {
   "cell_type": "code",
   "execution_count": 11,
   "metadata": {},
   "outputs": [
    {
     "data": {
      "text/html": [
       "<style>#sk-container-id-1 {color: black;}#sk-container-id-1 pre{padding: 0;}#sk-container-id-1 div.sk-toggleable {background-color: white;}#sk-container-id-1 label.sk-toggleable__label {cursor: pointer;display: block;width: 100%;margin-bottom: 0;padding: 0.3em;box-sizing: border-box;text-align: center;}#sk-container-id-1 label.sk-toggleable__label-arrow:before {content: \"▸\";float: left;margin-right: 0.25em;color: #696969;}#sk-container-id-1 label.sk-toggleable__label-arrow:hover:before {color: black;}#sk-container-id-1 div.sk-estimator:hover label.sk-toggleable__label-arrow:before {color: black;}#sk-container-id-1 div.sk-toggleable__content {max-height: 0;max-width: 0;overflow: hidden;text-align: left;background-color: #f0f8ff;}#sk-container-id-1 div.sk-toggleable__content pre {margin: 0.2em;color: black;border-radius: 0.25em;background-color: #f0f8ff;}#sk-container-id-1 input.sk-toggleable__control:checked~div.sk-toggleable__content {max-height: 200px;max-width: 100%;overflow: auto;}#sk-container-id-1 input.sk-toggleable__control:checked~label.sk-toggleable__label-arrow:before {content: \"▾\";}#sk-container-id-1 div.sk-estimator input.sk-toggleable__control:checked~label.sk-toggleable__label {background-color: #d4ebff;}#sk-container-id-1 div.sk-label input.sk-toggleable__control:checked~label.sk-toggleable__label {background-color: #d4ebff;}#sk-container-id-1 input.sk-hidden--visually {border: 0;clip: rect(1px 1px 1px 1px);clip: rect(1px, 1px, 1px, 1px);height: 1px;margin: -1px;overflow: hidden;padding: 0;position: absolute;width: 1px;}#sk-container-id-1 div.sk-estimator {font-family: monospace;background-color: #f0f8ff;border: 1px dotted black;border-radius: 0.25em;box-sizing: border-box;margin-bottom: 0.5em;}#sk-container-id-1 div.sk-estimator:hover {background-color: #d4ebff;}#sk-container-id-1 div.sk-parallel-item::after {content: \"\";width: 100%;border-bottom: 1px solid gray;flex-grow: 1;}#sk-container-id-1 div.sk-label:hover label.sk-toggleable__label {background-color: #d4ebff;}#sk-container-id-1 div.sk-serial::before {content: \"\";position: absolute;border-left: 1px solid gray;box-sizing: border-box;top: 0;bottom: 0;left: 50%;z-index: 0;}#sk-container-id-1 div.sk-serial {display: flex;flex-direction: column;align-items: center;background-color: white;padding-right: 0.2em;padding-left: 0.2em;position: relative;}#sk-container-id-1 div.sk-item {position: relative;z-index: 1;}#sk-container-id-1 div.sk-parallel {display: flex;align-items: stretch;justify-content: center;background-color: white;position: relative;}#sk-container-id-1 div.sk-item::before, #sk-container-id-1 div.sk-parallel-item::before {content: \"\";position: absolute;border-left: 1px solid gray;box-sizing: border-box;top: 0;bottom: 0;left: 50%;z-index: -1;}#sk-container-id-1 div.sk-parallel-item {display: flex;flex-direction: column;z-index: 1;position: relative;background-color: white;}#sk-container-id-1 div.sk-parallel-item:first-child::after {align-self: flex-end;width: 50%;}#sk-container-id-1 div.sk-parallel-item:last-child::after {align-self: flex-start;width: 50%;}#sk-container-id-1 div.sk-parallel-item:only-child::after {width: 0;}#sk-container-id-1 div.sk-dashed-wrapped {border: 1px dashed gray;margin: 0 0.4em 0.5em 0.4em;box-sizing: border-box;padding-bottom: 0.4em;background-color: white;}#sk-container-id-1 div.sk-label label {font-family: monospace;font-weight: bold;display: inline-block;line-height: 1.2em;}#sk-container-id-1 div.sk-label-container {text-align: center;}#sk-container-id-1 div.sk-container {/* jupyter's `normalize.less` sets `[hidden] { display: none; }` but bootstrap.min.css set `[hidden] { display: none !important; }` so we also need the `!important` here to be able to override the default hidden behavior on the sphinx rendered scikit-learn.org. See: https://github.com/scikit-learn/scikit-learn/issues/21755 */display: inline-block !important;position: relative;}#sk-container-id-1 div.sk-text-repr-fallback {display: none;}</style><div id=\"sk-container-id-1\" class=\"sk-top-container\"><div class=\"sk-text-repr-fallback\"><pre>DecisionTreeRegressor(max_depth=8)</pre><b>In a Jupyter environment, please rerun this cell to show the HTML representation or trust the notebook. <br />On GitHub, the HTML representation is unable to render, please try loading this page with nbviewer.org.</b></div><div class=\"sk-container\" hidden><div class=\"sk-item\"><div class=\"sk-estimator sk-toggleable\"><input class=\"sk-toggleable__control sk-hidden--visually\" id=\"sk-estimator-id-1\" type=\"checkbox\" checked><label for=\"sk-estimator-id-1\" class=\"sk-toggleable__label sk-toggleable__label-arrow\">DecisionTreeRegressor</label><div class=\"sk-toggleable__content\"><pre>DecisionTreeRegressor(max_depth=8)</pre></div></div></div></div></div>"
      ],
      "text/plain": [
       "DecisionTreeRegressor(max_depth=8)"
      ]
     },
     "execution_count": 11,
     "metadata": {},
     "output_type": "execute_result"
    }
   ],
   "source": [
    "regr_1 = DecisionTreeRegressor(max_depth=2)\n",
    "regr_2 = DecisionTreeRegressor(max_depth=8)\n",
    "\n",
    "regr_1.fit(X_train, y_train)\n",
    "regr_2.fit(X_train, y_train)"
   ]
  },
  {
   "cell_type": "code",
   "execution_count": 12,
   "metadata": {},
   "outputs": [
    {
     "name": "stdout",
     "output_type": "stream",
     "text": [
      "O MSE da árvore com profundidade=2 é: 0,74\n",
      "O MSE da árvore com profundidade=8 é: 0,98\n"
     ]
    }
   ],
   "source": [
    "mse1 = regr_1.score(X_train, y_train)\n",
    "mse2 = regr_2.score(X_train, y_train)\n",
    "\n",
    "template = \"O MSE da árvore com profundidade={0} é: {1:.2f}\"\n",
    "\n",
    "print(template.format(regr_1.get_depth(),mse1).replace(\".\",\",\"))\n",
    "print(template.format(regr_2.get_depth(),mse2).replace(\".\",\",\"))"
   ]
  },
  {
   "cell_type": "markdown",
   "metadata": {},
   "source": [
    "### 2.  Calcule o caminho indicado pelos CCP-alfas dessa árvore."
   ]
  },
  {
   "cell_type": "code",
   "execution_count": 13,
   "metadata": {},
   "outputs": [
    {
     "data": {
      "text/plain": [
       "{'ccp_alphas': array([0.00000000e+00, 2.53419576e-14, 1.54798762e-05, 6.19195046e-05,\n",
       "        1.39318885e-04, 3.86996904e-04, 1.25386997e-03, 1.54798762e-03,\n",
       "        1.54798762e-03, 1.87306502e-03, 1.99793602e-03, 2.50773994e-03,\n",
       "        2.61609907e-03, 3.48297214e-03, 3.61197110e-03, 4.04540764e-03,\n",
       "        4.47368421e-03, 5.69917441e-03, 6.19453044e-03, 6.26315789e-03,\n",
       "        7.47456877e-03, 7.84829721e-03, 8.29279080e-03, 8.91640867e-03,\n",
       "        1.03242174e-02, 1.11764706e-02, 1.31368863e-02, 1.56088751e-02,\n",
       "        2.12139795e-02, 2.31648607e-02, 2.38018576e-02, 2.57769424e-02,\n",
       "        2.60113519e-02, 2.63183695e-02, 2.75550396e-02, 2.85716743e-02,\n",
       "        2.95876724e-02, 2.99488695e-02, 3.18443167e-02, 3.34378225e-02,\n",
       "        3.94267755e-02, 4.45820433e-02, 4.50784314e-02, 5.20575726e-02,\n",
       "        5.23685685e-02, 5.66602167e-02, 5.68885449e-02, 5.89494324e-02,\n",
       "        5.96078431e-02, 6.50371589e-02, 7.45206670e-02, 8.32654663e-02,\n",
       "        8.76341120e-02, 9.11867905e-02, 1.02585139e-01, 1.13015480e-01,\n",
       "        1.17167183e-01, 1.18626315e-01, 1.20213622e-01, 1.28959276e-01,\n",
       "        1.32282813e-01, 1.34949405e-01, 1.37109686e-01, 1.46984755e-01,\n",
       "        1.71183160e-01, 1.74325077e-01, 1.74547331e-01, 1.87405412e-01,\n",
       "        1.93983224e-01, 1.98142415e-01, 2.39992139e-01, 2.57070762e-01,\n",
       "        2.58114538e-01, 3.43467492e-01, 3.69857422e-01, 4.06398547e-01,\n",
       "        4.48907200e-01, 4.92303062e-01, 4.95079866e-01, 5.17197752e-01,\n",
       "        6.12706325e-01, 8.62701138e-01, 1.66121135e+00, 1.99603159e+00,\n",
       "        2.06261784e+00, 2.47825852e+00, 3.83289878e+00, 4.30844834e+00,\n",
       "        1.55469647e+01, 4.75229770e+01]),\n",
       " 'impurities': array([ 1.99015326,  1.99015326,  1.99016874,  1.99023066,  1.99036998,\n",
       "         1.99075697,  1.99201084,  1.99355883,  1.99510682,  1.99697988,\n",
       "         1.99897782,  2.00148556,  2.00410166,  2.00758463,  2.0111966 ,\n",
       "         2.01524201,  2.01971569,  2.02541487,  2.0316094 ,  2.03787256,\n",
       "         2.04534713,  2.05319542,  2.06148821,  2.07040462,  2.08072884,\n",
       "         2.09190531,  2.1050422 ,  2.12065107,  2.16307903,  2.18624389,\n",
       "         2.21004575,  2.23582269,  2.26183404,  2.28815241,  2.31570745,\n",
       "         2.34427913,  2.3738668 ,  2.40381567,  2.43565999,  2.46909781,\n",
       "         2.50852458,  2.55310663,  2.59818506,  2.65024263,  2.7026112 ,\n",
       "         2.75927142,  2.81615996,  2.87510939,  2.93471724,  2.99975439,\n",
       "         3.07427506,  3.15754053,  3.24517464,  3.33636143,  3.43894657,\n",
       "         3.55196205,  3.66912923,  3.78775555,  3.90796917,  4.03692845,\n",
       "         4.16921126,  4.30416066,  4.44127035,  4.58825511,  4.75943826,\n",
       "         4.93376334,  5.10831067,  5.4831215 ,  5.67710472,  5.87524714,\n",
       "         6.35523141,  6.61230218,  6.87041671,  7.21388421,  7.58374163,\n",
       "         7.99014018,  8.43904738,  8.93135044,  9.4264303 ,  9.94362805,\n",
       "        10.55633438, 11.41903552, 13.08024687, 15.07627845, 17.1388963 ,\n",
       "        19.61715482, 23.4500536 , 27.75850194, 43.30546664, 90.82844367])}"
      ]
     },
     "execution_count": 13,
     "metadata": {},
     "output_type": "execute_result"
    }
   ],
   "source": [
    "path = regr_2.cost_complexity_pruning_path(X_train, y_train)\n",
    "path"
   ]
  },
  {
   "cell_type": "code",
   "execution_count": null,
   "metadata": {},
   "outputs": [],
   "source": []
  },
  {
   "cell_type": "markdown",
   "metadata": {},
   "source": [
    "### 3. Paca cada valor de alpha obtido no item 2, treine uma árvore com o respectivo alfa, e guarde essa árvore em uma lista."
   ]
  },
  {
   "cell_type": "code",
   "execution_count": 15,
   "metadata": {},
   "outputs": [],
   "source": [
    "ccp_alphas, impurities = path.ccp_alphas, path.impurities\n",
    "\n"
   ]
  },
  {
   "cell_type": "code",
   "execution_count": 16,
   "metadata": {},
   "outputs": [],
   "source": [
    "    clfs = []\n",
    "    for ccp_alpha in ccp_alphas:\n",
    "        clf = DecisionTreeRegressor(random_state=0, ccp_alpha=ccp_alpha)\n",
    "        clf.fit(X_train, y_train)\n",
    "        clfs.append(clf)"
   ]
  },
  {
   "cell_type": "code",
   "execution_count": 17,
   "metadata": {},
   "outputs": [
    {
     "data": {
      "text/plain": [
       "[DecisionTreeRegressor(random_state=0),\n",
       " DecisionTreeRegressor(ccp_alpha=2.5341957634539795e-14, random_state=0),\n",
       " DecisionTreeRegressor(ccp_alpha=1.5479876160624662e-05, random_state=0),\n",
       " DecisionTreeRegressor(ccp_alpha=6.191950464395053e-05, random_state=0),\n",
       " DecisionTreeRegressor(ccp_alpha=0.00013931888544914167, random_state=0),\n",
       " DecisionTreeRegressor(ccp_alpha=0.0003869969040247678, random_state=0),\n",
       " DecisionTreeRegressor(ccp_alpha=0.0012538699690391073, random_state=0),\n",
       " DecisionTreeRegressor(ccp_alpha=0.0015479876160988952, random_state=0),\n",
       " DecisionTreeRegressor(ccp_alpha=0.0015479876160993352, random_state=0),\n",
       " DecisionTreeRegressor(ccp_alpha=0.0018730650154799324, random_state=0),\n",
       " DecisionTreeRegressor(ccp_alpha=0.00199793601651211, random_state=0),\n",
       " DecisionTreeRegressor(ccp_alpha=0.0025077399380838464, random_state=0),\n",
       " DecisionTreeRegressor(ccp_alpha=0.0026160990712071628, random_state=0),\n",
       " DecisionTreeRegressor(ccp_alpha=0.00348297213622291, random_state=0),\n",
       " DecisionTreeRegressor(ccp_alpha=0.0036119711042290254, random_state=0),\n",
       " DecisionTreeRegressor(ccp_alpha=0.004045407636736987, random_state=0),\n",
       " DecisionTreeRegressor(ccp_alpha=0.0044736842105259425, random_state=0),\n",
       " DecisionTreeRegressor(ccp_alpha=0.0056991744066015, random_state=0),\n",
       " DecisionTreeRegressor(ccp_alpha=0.006194530443758031, random_state=0),\n",
       " DecisionTreeRegressor(ccp_alpha=0.006263157894729879, random_state=0),\n",
       " DecisionTreeRegressor(ccp_alpha=0.007474568774879594, random_state=0),\n",
       " DecisionTreeRegressor(ccp_alpha=0.007848297213622896, random_state=0),\n",
       " DecisionTreeRegressor(ccp_alpha=0.008292790800544163, random_state=0),\n",
       " DecisionTreeRegressor(ccp_alpha=0.008916408668730284, random_state=0),\n",
       " DecisionTreeRegressor(ccp_alpha=0.010324217406257285, random_state=0),\n",
       " DecisionTreeRegressor(ccp_alpha=0.011176470588237536, random_state=0),\n",
       " DecisionTreeRegressor(ccp_alpha=0.013136886333497397, random_state=0),\n",
       " DecisionTreeRegressor(ccp_alpha=0.01560887512899885, random_state=0),\n",
       " DecisionTreeRegressor(ccp_alpha=0.0212139795189339, random_state=0),\n",
       " DecisionTreeRegressor(ccp_alpha=0.023164860681114795, random_state=0),\n",
       " DecisionTreeRegressor(ccp_alpha=0.023801857585141042, random_state=0),\n",
       " DecisionTreeRegressor(ccp_alpha=0.02577694235588618, random_state=0),\n",
       " DecisionTreeRegressor(ccp_alpha=0.026011351909196616, random_state=0),\n",
       " DecisionTreeRegressor(ccp_alpha=0.026318369453054755, random_state=0),\n",
       " DecisionTreeRegressor(ccp_alpha=0.02755503955967542, random_state=0),\n",
       " DecisionTreeRegressor(ccp_alpha=0.02857167428374223, random_state=0),\n",
       " DecisionTreeRegressor(ccp_alpha=0.0295876723895314, random_state=0),\n",
       " DecisionTreeRegressor(ccp_alpha=0.029948869499954015, random_state=0),\n",
       " DecisionTreeRegressor(ccp_alpha=0.0318443166740381, random_state=0),\n",
       " DecisionTreeRegressor(ccp_alpha=0.03343782249742225, random_state=0),\n",
       " DecisionTreeRegressor(ccp_alpha=0.03942677549488629, random_state=0),\n",
       " DecisionTreeRegressor(ccp_alpha=0.0445820433436479, random_state=0),\n",
       " DecisionTreeRegressor(ccp_alpha=0.045078431372546954, random_state=0),\n",
       " DecisionTreeRegressor(ccp_alpha=0.0520575726303193, random_state=0),\n",
       " DecisionTreeRegressor(ccp_alpha=0.05236856848002349, random_state=0),\n",
       " DecisionTreeRegressor(ccp_alpha=0.05666021671827254, random_state=0),\n",
       " DecisionTreeRegressor(ccp_alpha=0.056888544891644036, random_state=0),\n",
       " DecisionTreeRegressor(ccp_alpha=0.058949432404534916, random_state=0),\n",
       " DecisionTreeRegressor(ccp_alpha=0.059607843137257005, random_state=0),\n",
       " DecisionTreeRegressor(ccp_alpha=0.06503715891950626, random_state=0),\n",
       " DecisionTreeRegressor(ccp_alpha=0.07452066699257165, random_state=0),\n",
       " DecisionTreeRegressor(ccp_alpha=0.0832654662973053, random_state=0),\n",
       " DecisionTreeRegressor(ccp_alpha=0.08763411201801892, random_state=0),\n",
       " DecisionTreeRegressor(ccp_alpha=0.09118679050567063, random_state=0),\n",
       " DecisionTreeRegressor(ccp_alpha=0.10258513931888577, random_state=0),\n",
       " DecisionTreeRegressor(ccp_alpha=0.11301547987616634, random_state=0),\n",
       " DecisionTreeRegressor(ccp_alpha=0.11716718266252611, random_state=0),\n",
       " DecisionTreeRegressor(ccp_alpha=0.11862631529570655, random_state=0),\n",
       " DecisionTreeRegressor(ccp_alpha=0.12021362229102045, random_state=0),\n",
       " DecisionTreeRegressor(ccp_alpha=0.1289592760181131, random_state=0),\n",
       " DecisionTreeRegressor(ccp_alpha=0.13228281264658648, random_state=0),\n",
       " DecisionTreeRegressor(ccp_alpha=0.13494940524687601, random_state=0),\n",
       " DecisionTreeRegressor(ccp_alpha=0.13710968597964643, random_state=0),\n",
       " DecisionTreeRegressor(ccp_alpha=0.14698475515639653, random_state=0),\n",
       " DecisionTreeRegressor(ccp_alpha=0.17118315955144792, random_state=0),\n",
       " DecisionTreeRegressor(ccp_alpha=0.17432507739937878, random_state=0),\n",
       " DecisionTreeRegressor(ccp_alpha=0.17454733089411006, random_state=0),\n",
       " DecisionTreeRegressor(ccp_alpha=0.18740541192553087, random_state=0),\n",
       " DecisionTreeRegressor(ccp_alpha=0.19398322404703472, random_state=0),\n",
       " DecisionTreeRegressor(ccp_alpha=0.19814241486068324, random_state=0),\n",
       " DecisionTreeRegressor(ccp_alpha=0.23999213865112884, random_state=0),\n",
       " DecisionTreeRegressor(ccp_alpha=0.25707076225741177, random_state=0),\n",
       " DecisionTreeRegressor(ccp_alpha=0.2581145380570631, random_state=0),\n",
       " DecisionTreeRegressor(ccp_alpha=0.343467492260061, random_state=0),\n",
       " DecisionTreeRegressor(ccp_alpha=0.36985742219329754, random_state=0),\n",
       " DecisionTreeRegressor(ccp_alpha=0.40639854727313773, random_state=0),\n",
       " DecisionTreeRegressor(ccp_alpha=0.4489072001269787, random_state=0),\n",
       " DecisionTreeRegressor(ccp_alpha=0.49230306157555326, random_state=0),\n",
       " DecisionTreeRegressor(ccp_alpha=0.49507986556249306, random_state=0),\n",
       " DecisionTreeRegressor(ccp_alpha=0.5171977515496871, random_state=0),\n",
       " DecisionTreeRegressor(ccp_alpha=0.6127063246352598, random_state=0),\n",
       " DecisionTreeRegressor(ccp_alpha=0.8627011378714062, random_state=0),\n",
       " DecisionTreeRegressor(ccp_alpha=1.6612113519090979, random_state=0),\n",
       " DecisionTreeRegressor(ccp_alpha=1.996031585143219, random_state=0),\n",
       " DecisionTreeRegressor(ccp_alpha=2.062617844144053, random_state=0),\n",
       " DecisionTreeRegressor(ccp_alpha=2.4782585226384177, random_state=0),\n",
       " DecisionTreeRegressor(ccp_alpha=3.8328987778939307, random_state=0),\n",
       " DecisionTreeRegressor(ccp_alpha=4.30844834032997, random_state=0),\n",
       " DecisionTreeRegressor(ccp_alpha=15.546964705918214, random_state=0),\n",
       " DecisionTreeRegressor(ccp_alpha=47.52297702886109, random_state=0)]"
      ]
     },
     "execution_count": 17,
     "metadata": {},
     "output_type": "execute_result"
    }
   ],
   "source": [
    "clfs"
   ]
  },
  {
   "cell_type": "markdown",
   "metadata": {},
   "source": [
    "### 4. Para cada árvore na lista, calcule o MSE da árvore."
   ]
  },
  {
   "cell_type": "code",
   "execution_count": 18,
   "metadata": {},
   "outputs": [
    {
     "data": {
      "text/plain": [
       "Text(0, 0.5, 'Profundidade da árvore')"
      ]
     },
     "execution_count": 18,
     "metadata": {},
     "output_type": "execute_result"
    },
    {
     "data": {
      "image/png": "[encoded data removed]",
      "text/plain": [
       "<Figure size 1000x600 with 1 Axes>"
      ]
     },
     "metadata": {},
     "output_type": "display_data"
    }
   ],
   "source": [
    "tree_depths = [clf.tree_.max_depth for clf in clfs]\n",
    "plt.figure(figsize=(10, 6))\n",
    "plt.plot(ccp_alphas[:-1], tree_depths[:-1])\n",
    "plt.xlabel(\"effective alpha\")\n",
    "plt.ylabel(\"Profundidade da árvore\")"
   ]
  },
  {
   "cell_type": "markdown",
   "metadata": {},
   "source": [
    "### 5. Monte um gráfico do MSE pelo alpha, escolha um valor de alpha perto do ponto de mínimo do MSE"
   ]
  },
  {
   "cell_type": "code",
   "execution_count": 24,
   "metadata": {},
   "outputs": [
    {
     "data": {
      "image/png": "[encoded data removed]",
      "text/plain": [
       "<Figure size 640x480 with 1 Axes>"
      ]
     },
     "metadata": {},
     "output_type": "display_data"
    }
   ],
   "source": [
    "from sklearn.metrics import mean_squared_error\n",
    "train_scores = [mean_squared_error(y_train, clf.predict(X_train)) for clf in clfs]\n",
    "test_scores = [mean_squared_error(y_test, clf.predict(X_test)) for clf in clfs]\n",
    "\n",
    "fig, ax = plt.subplots()\n",
    "ax.set_xlabel(\"alpha\")\n",
    "ax.set_ylabel(\"MSE\")\n",
    "ax.set_title(\"MSE x alpha no conjunto de dados de treino e teste\")\n",
    "ax.plot(ccp_alphas[:-1], train_scores[:-1], marker=\"o\", label=\"treino\", drawstyle=\"steps-post\")\n",
    "ax.plot(ccp_alphas[:-1], test_scores[:-1], marker=\"o\", label=\"teste\", drawstyle=\"steps-post\")\n",
    "ax.legend()\n",
    "plt.show()"
   ]
  },
  {
   "cell_type": "markdown",
   "metadata": {},
   "source": [
    "### 6. Calcule o R-quadrado dessa árvore encontrada no item acima"
   ]
  },
  {
   "cell_type": "code",
   "execution_count": 25,
   "metadata": {},
   "outputs": [
    {
     "name": "stdout",
     "output_type": "stream",
     "text": [
      "Profundidade: 16\n",
      "R-quadrado na base de testes: 0.57\n",
      "MSE na base de testes: 31.27\n"
     ]
    }
   ],
   "source": [
    "arvore_final = DecisionTreeRegressor(random_state=0, ccp_alpha=.01)\n",
    "arvore_final.fit(X_train, y_train)\n",
    "\n",
    "print(f\"Profundidade: {arvore_final.tree_.max_depth}\")\n",
    "print(f\"R-quadrado na base de testes: {arvore_final.score(X_test, y_test):.2f}\")\n",
    "print(f\"MSE na base de testes: {mean_squared_error(y_test, arvore_final.predict(X_test )):.2f}\")"
   ]
  },
  {
   "cell_type": "markdown",
   "metadata": {},
   "source": [
    "### 7. Visualize esta árvore."
   ]
  },
  {
   "cell_type": "code",
   "execution_count": 33,
   "metadata": {},
   "outputs": [
    {
     "data": {
      "text/plain": [
       "<Axes: xlabel='n_minimo', ylabel='profundidade'>"
      ]
     },
     "execution_count": 33,
     "metadata": {},
     "output_type": "execute_result"
    },
    {
     "data": {
      "image/png": "[encoded data removed]",
      "text/plain": [
       "<Figure size 640x480 with 2 Axes>"
      ]
     },
     "metadata": {},
     "output_type": "display_data"
    }
   ],
   "source": [
    "mses = []\n",
    "ind_i = []\n",
    "ind_j = []\n",
    "\n",
    "for i in range(2, 9):\n",
    "    for j in range(5, 25):\n",
    "        arvore_final = DecisionTreeRegressor(max_depth = i, min_samples_leaf=j)\n",
    "        arvore_final.fit(X_train, y_train)\n",
    "        mse1 = arvore_final.score(X_test, y_test)\n",
    "        mses.append(mse1)\n",
    "        ind_i.append(i)\n",
    "        ind_j.append(j)\n",
    "\n",
    "df_mse = pd.DataFrame({\"mses\":mses, \"profundidade\":ind_i, \"n_minimo\":ind_j})\n",
    "sns.heatmap(df_mse.pivot(index=\"profundidade\", columns=\"n_minimo\", values=\"mses\"))\n",
    "        "
   ]
  },
  {
   "cell_type": "code",
   "execution_count": null,
   "metadata": {},
   "outputs": [],
   "source": []
  }
 ],
 "metadata": {
  "kernelspec": {
   "display_name": "Python 3 (ipykernel)",
   "language": "python",
   "name": "python3"
  },
  "language_info": {
   "codemirror_mode": {
    "name": "ipython",
    "version": 3
   },
   "file_extension": ".py",
   "mimetype": "text/x-python",
   "name": "python",
   "nbconvert_exporter": "python",
   "pygments_lexer": "ipython3",
   "version": "3.11.5"
  }
 },
 "nbformat": 4,
 "nbformat_minor": 4
}
